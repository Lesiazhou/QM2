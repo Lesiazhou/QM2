{
  "nbformat": 4,
  "nbformat_minor": 0,
  "metadata": {
    "colab": {
      "provenance": [],
      "include_colab_link": true
    },
    "kernelspec": {
      "name": "python3",
      "display_name": "Python 3"
    },
    "language_info": {
      "name": "python"
    }
  },
  "cells": [
    {
      "cell_type": "markdown",
      "metadata": {
        "id": "view-in-github",
        "colab_type": "text"
      },
      "source": [
        "<a href=\"https://colab.research.google.com/github/Lesiazhou/QM2/blob/main/salinity_%2B_water_volume%2C_water_characteristics_vs_NDVI.ipynb\" target=\"_parent\"><img src=\"https://colab.research.google.com/assets/colab-badge.svg\" alt=\"Open In Colab\"/></a>"
      ]
    },
    {
      "cell_type": "code",
      "execution_count": null,
      "metadata": {
        "id": "taeu8O2FKrdi"
      },
      "outputs": [],
      "source": [
        "import ee\n",
        "import pandas as pd\n",
        "import numpy as np\n",
        "from datetime import datetime\n",
        "\n",
        "ee.Authenticate()\n",
        "ee.Initialize(project='yokomultilinear')\n"
      ]
    },
    {
      "cell_type": "code",
      "source": [
        "roi = ee.Geometry.Point(60.79306,46.09667).buffer(10000)"
      ],
      "metadata": {
        "id": "DHvAQMQILEM2"
      },
      "execution_count": null,
      "outputs": []
    },
    {
      "cell_type": "code",
      "source": [
        "modis = ee.ImageCollection('MODIS/006/MOD13Q1').filterBounds(roi)\n",
        "avhrr = ee.ImageCollection('NOAA/CDR/AVHRR/NDVI/V5').filterBounds(roi).filterDate('1980-01-01', '1998-12-31')\n"
      ],
      "metadata": {
        "id": "XK7lk86ZPykI"
      },
      "execution_count": null,
      "outputs": []
    },
    {
      "cell_type": "code",
      "source": [
        "def extract_pixel_ndvi(image):\n",
        "    ndvi = image.select('NDVI')\n",
        "    samples = ndvi.addBands(image.metadata('system:time_start','date')).sample(\n",
        "        region=roi,\n",
        "        scale=500,\n",
        "        projection=ndvi.projection(),\n",
        "        geometries=True\n",
        "    )\n",
        "    return samples"
      ],
      "metadata": {
        "id": "k2g-vtMEP4XA"
      },
      "execution_count": 6,
      "outputs": []
    },
    {
      "cell_type": "code",
      "source": [
        "data = []"
      ],
      "metadata": {
        "id": "eH1qHqFWP8UN"
      },
      "execution_count": 7,
      "outputs": []
    },
    {
      "cell_type": "code",
      "source": [
        "avhrr_ndvi = avhrr.map(lambda image: image.select('NDVI').multiply(0.0001))"
      ],
      "metadata": {
        "id": "qB4WDm4lk3i3"
      },
      "execution_count": null,
      "outputs": []
    },
    {
      "cell_type": "markdown",
      "source": [
        "Combining 2 datasets as there is no dataset with continuous data from 1980s till 2004 (dam built in 2005)"
      ],
      "metadata": {
        "id": "c3DqZ8b6TVpV"
      }
    },
    {
      "cell_type": "code",
      "source": [
        "ee.Authenticate()\n",
        "ee.Initialize(project='yokomultilinear')\n",
        "\n",
        "roi = ee.Geometry.Point(60.79306, 46.09667).buffer(10000)\n",
        "\n",
        "# AVHRR GAC NDVI dataset (1980-1998)\n",
        "avhrr_ndvi = ee.ImageCollection('NOAA/CDR/AVHRR/NDVI/V5').filterBounds(roi)\n",
        "\n",
        "# MODIS dataset (2000-2004)\n",
        "modis_ndvi = ee.ImageCollection('MODIS/006/MOD13Q1').filterBounds(roi)\n",
        "\n",
        "def extract_pixel_ndvi(image):\n",
        "    ndvi = image.select('NDVI')\n",
        "    samples = ndvi.addBands(image.metadata('system:time_start', 'date')).sample(\n",
        "        region=roi,\n",
        "        scale=5000,  # Adjust scale\n",
        "        projection=ndvi.projection(),\n",
        "        geometries=True\n",
        "    )\n",
        "    return samples\n",
        "\n",
        "yearly_data = []\n",
        "\n",
        "# Extract yearly average NDVI from AVHRR (1980-1999)\n",
        "for year in range(1980, 2000):\n",
        "    yearly_avhrr = avhrr_ndvi.filterDate(str(year) + '-01-01', str(year) + '-12-31')\n",
        "\n",
        "    if yearly_avhrr.size().getInfo() > 0:\n",
        "        # Mask fill values\n",
        "        yearly_avhrr = yearly_avhrr.map(lambda image: image.updateMask(image.select('NDVI').neq(-32768)))\n",
        "\n",
        "        # Calculate yearly average NDVI\n",
        "        yearly_mean_ndvi = yearly_avhrr.mean().clip(roi).reduceRegion(\n",
        "            reducer=ee.Reducer.mean(),\n",
        "            geometry=roi,\n",
        "            scale=5000\n",
        "        ).get('NDVI')\n",
        "\n",
        "        ndvi_value = yearly_mean_ndvi.getInfo()\n",
        "        # Rescale AVHRR NDVI\n",
        "        ndvi_value = (ndvi_value / 2550)\n",
        "\n",
        "        # Optional: Filter outliers or extreme values here (using thresholds, IQR, etc.)\n",
        "\n",
        "        yearly_data.append([year, ndvi_value, 'AVHRR'])\n",
        "    else:\n",
        "        print(f\"No AVHRR images found for year {year}. Skipping...\")\n",
        "\n",
        "# Extract yearly average NDVI from MODIS (2000-2004)\n",
        "for year in range(2000, 2005):\n",
        "    yearly_modis = modis_ndvi.filterDate(str(year) + '-01-01', str(year) + '-12-31')\n",
        "\n",
        "    if yearly_modis.size().getInfo() > 0:\n",
        "        # Calculate yearly average NDVI\n",
        "        yearly_mean_ndvi = yearly_modis.mean().clip(roi).reduceRegion(\n",
        "            reducer=ee.Reducer.mean(),\n",
        "            geometry=roi,\n",
        "            scale=5000  # Adjust scale\n",
        "        ).get('NDVI')\n",
        "\n",
        "        ndvi_value = yearly_mean_ndvi.getInfo()\n",
        "        # Rescale MODIS NDVI (original data is between 0 and 10000)\n",
        "        ndvi_value = ndvi_value / 10000\n",
        "\n",
        "        yearly_data.append([year, ndvi_value, 'MODIS'])\n",
        "    else:\n",
        "        print(f\"No MODIS images found for year {year}. Skipping...\")\n",
        "\n",
        "# Create a pandas DataFrame\n",
        "df = pd.DataFrame(yearly_data, columns=['year', 'ndvi', 'source'])\n",
        "\n",
        "# Print the DataFrame\n",
        "print(df)"
      ],
      "metadata": {
        "id": "XKj98p4oSxD6",
        "colab": {
          "base_uri": "https://localhost:8080/"
        },
        "outputId": "ded45670-612c-4b6e-d2f5-ad0735e5471a"
      },
      "execution_count": null,
      "outputs": [
        {
          "output_type": "stream",
          "name": "stdout",
          "text": [
            "No AVHRR images found for year 1980. Skipping...\n",
            "    year      ndvi source\n",
            "0   1981  0.350704  AVHRR\n",
            "1   1982  0.145903  AVHRR\n",
            "2   1983  0.129826  AVHRR\n",
            "3   1984  0.229617  AVHRR\n",
            "4   1985  0.226007  AVHRR\n",
            "5   1986  0.248907  AVHRR\n",
            "6   1987  0.285187  AVHRR\n",
            "7   1988  0.297736  AVHRR\n",
            "8   1989  0.231670  AVHRR\n",
            "9   1990  0.232151  AVHRR\n",
            "10  1991  0.284608  AVHRR\n",
            "11  1992  0.308162  AVHRR\n",
            "12  1993  0.329235  AVHRR\n",
            "13  1994  0.274052  AVHRR\n",
            "14  1995  0.357898  AVHRR\n",
            "15  1996  0.202703  AVHRR\n",
            "16  1997  0.352335  AVHRR\n",
            "17  1998  0.201054  AVHRR\n",
            "18  1999  0.260023  AVHRR\n",
            "19  2000  0.117162  MODIS\n",
            "20  2001  0.102420  MODIS\n",
            "21  2002  0.138161  MODIS\n",
            "22  2003  0.142248  MODIS\n",
            "23  2004  0.122575  MODIS\n"
          ]
        }
      ]
    },
    {
      "cell_type": "code",
      "source": [
        "import matplotlib.pyplot as plt\n",
        "\n",
        "# Assuming you have a pandas DataFrame 'df' with columns 'year', 'ndvi', and 'source'\n",
        "\n",
        "# Create a figure and axes\n",
        "fig, ax = plt.subplots(figsize=(10, 6))\n",
        "\n",
        "# Plot combined data with connected lines\n",
        "ax.plot(df['year'], df['ndvi'], label='NDVI Trend', color='blue')  # Plot combined data\n",
        "\n",
        "# Set plot title and labels\n",
        "ax.set_title('NDVI Trends Over Time')\n",
        "ax.set_xlabel('Year')\n",
        "ax.set_ylabel('NDVI')\n",
        "\n",
        "# Add legend\n",
        "ax.legend()\n",
        "\n",
        "# Display the plot\n",
        "plt.show()"
      ],
      "metadata": {
        "id": "mVbnb201hW0k"
      },
      "execution_count": null,
      "outputs": []
    },
    {
      "cell_type": "code",
      "source": [
        "import pandas as pd\n",
        "\n",
        "data = {\n",
        "    \"year\": [1981, 1982, 1983, 1984, 1985, 1986, 1987, 1988, 1989, 1990,\n",
        "             1991, 1992, 1993, 1994, 1995, 1996, 1997, 1998, 1999, 2000,\n",
        "             2001, 2002, 2003, 2004],\n",
        "    \"ndvi\": [0.350704, 0.145903, 0.129826, 0.229617, 0.226007, 0.248907, 0.285187,\n",
        "             0.297736, 0.231670, 0.232151, 0.284608, 0.308162, 0.329235, 0.274052,\n",
        "             0.357898, 0.202703, 0.352335, 0.201054, 0.260023, 0.117162,\n",
        "             0.102420, 0.138161, 0.142248, 0.122575],\n",
        "    \"source\": [\"AVHRR\"] * 19 + [\"MODIS\"] * 5\n",
        "}\n",
        "\n",
        "df = pd.DataFrame(data)\n",
        "\n",
        "df.to_csv('ndvi_data.csv')"
      ],
      "metadata": {
        "id": "bhU4Oi2hwkAi"
      },
      "execution_count": 13,
      "outputs": []
    },
    {
      "cell_type": "markdown",
      "source": [
        "Importing data for salinity (g/l) and water level(m)"
      ],
      "metadata": {
        "id": "lfDFiAKcu5e7"
      }
    },
    {
      "cell_type": "code",
      "source": [
        "from google.colab import files\n",
        "uploaded = files.upload()"
      ],
      "metadata": {
        "id": "wRH_Lgi9lOcP"
      },
      "execution_count": null,
      "outputs": []
    },
    {
      "cell_type": "code",
      "source": [
        "df=pd.read_csv('salinity.waterlevel (1).csv')\n",
        "df.head(10)"
      ],
      "metadata": {
        "id": "GALM28USupDa"
      },
      "execution_count": null,
      "outputs": []
    },
    {
      "cell_type": "code",
      "source": [
        "summary=df.describe()\n",
        "summary=summary.T\n",
        "summary"
      ],
      "metadata": {
        "id": "LNLtrpc7u4Sy"
      },
      "execution_count": null,
      "outputs": []
    },
    {
      "cell_type": "markdown",
      "source": [
        "NDVI = β0 + β1 * Salinity + β2 * Water_Level + ε\n",
        "\n",
        "- NDVI: The dependent variable\n",
        "- Salinity: The first predictor variable\n",
        "- Water_Level: The second predictor variable\n",
        "- β0: The intercept (the value of NDVI when salinity and water level are 0)\n",
        "- β1: The coefficient for salinity (the change in NDVI for a unit change in salinity)\n",
        "- β2: The coefficient for water level (the change in NDVI for a unit change in water level)\n",
        "- ε: The error term (the difference between the observed and predicted NDVI values)"
      ],
      "metadata": {
        "id": "HpAGJw1WzxKo"
      }
    },
    {
      "cell_type": "code",
      "source": [
        "import statsmodels.formula.api as sm\n",
        "from statsmodels.formula.api import ols\n",
        "from statsmodels.iolib.summary2 import summary_col\n",
        "Water_Level = df['Water Level']\n",
        "model = ols('NDVI ~ Salinity + Water_Level', data=df).fit()\n",
        "print(model.summary())\n"
      ],
      "metadata": {
        "id": "qfd7fN9pzXRa"
      },
      "execution_count": null,
      "outputs": []
    },
    {
      "cell_type": "code",
      "source": [],
      "metadata": {
        "id": "WW4BbRE00va9"
      },
      "execution_count": null,
      "outputs": []
    },
    {
      "cell_type": "markdown",
      "source": [
        "# **Aral sea morphometric characteristics---water volume + water surface area + water volume (1981-2004) vs NDVI**"
      ],
      "metadata": {
        "id": "0YQf_1p_W3s-"
      }
    },
    {
      "cell_type": "code",
      "source": [
        "from google.colab import files\n",
        "uploaded = files.upload()"
      ],
      "metadata": {
        "id": "i0Ed1N8kW2jt"
      },
      "execution_count": null,
      "outputs": []
    },
    {
      "cell_type": "code",
      "source": [
        "df1=pd.read_csv('Aral_Sea_Characteristics__1981-2004_.csv')\n",
        "df1.head(10)"
      ],
      "metadata": {
        "id": "xgeGr4H_Yygs"
      },
      "execution_count": null,
      "outputs": []
    },
    {
      "cell_type": "code",
      "source": [
        "ndvi_data = {\n",
        "    \"Year\": [\n",
        "        1981, 1982, 1983, 1984, 1985, 1986, 1987, 1988, 1989, 1990,\n",
        "        1991, 1992, 1993, 1994, 1995, 1996, 1997, 1998, 1999, 2000,\n",
        "        2001, 2002, 2003, 2004\n",
        "    ],\n",
        "    \"NDVI\": [\n",
        "        0.350704, 0.145903, 0.129826, 0.229617, 0.226007, 0.248907, 0.285187,\n",
        "        0.297736, 0.231670, 0.232151, 0.284608, 0.308162, 0.329235, 0.274052,\n",
        "        0.357898, 0.202703, 0.352335, 0.201054, 0.260023, 0.117162,\n",
        "        0.102420, 0.138161, 0.142248, 0.122575\n",
        "    ]\n",
        "}\n",
        "\n",
        "ndvi_df = pd.DataFrame(ndvi_data)\n",
        "\n",
        "# Merge the two DataFrames on the \"Year\" column\n",
        "merged_df = pd.merge(df1, ndvi_df, on=\"Year\")\n",
        "merged_df"
      ],
      "metadata": {
        "id": "E5v_HqjfY44A"
      },
      "execution_count": null,
      "outputs": []
    },
    {
      "cell_type": "code",
      "source": [
        "import pandas as pd\n",
        "import matplotlib.pyplot as plt\n",
        "import seaborn as sns\n",
        "\n",
        "plt.figure(figsize=(12, 6))\n",
        "\n",
        "normalized_df = df.copy()\n",
        "for column in [\"Water Level (m)\", \"Water Surface Area (thousand km²)\", \"Water Volume (km³)\"]:\n",
        "    normalized_df[column] = (df[column] - df[column].min()) / (df[column].max() - df[column].min())\n",
        "\n",
        "plt.figure(figsize=(12, 6))\n",
        "plt.plot(normalized_df[\"Year\"], normalized_df[\"Water Level (m)\"], label=\"Water Level (Normalized)\", color=\"blue\")\n",
        "plt.plot(normalized_df[\"Year\"], normalized_df[\"Water Surface Area (thousand km²)\"], label=\"Water Surface Area (Normalized)\", color=\"green\")\n",
        "plt.plot(normalized_df[\"Year\"], normalized_df[\"Water Volume (km³)\"], label=\"Water Volume (Normalized)\", color=\"red\")\n",
        "\n",
        "plt.legend()\n",
        "plt.title(\"Normalized Trends of Aral Sea Characteristics (1981-2004)\")\n",
        "plt.xlabel(\"Year\")\n",
        "plt.ylabel(\"Normalized Value\")\n",
        "plt.grid(True)\n",
        "plt.show()"
      ],
      "metadata": {
        "id": "4Q3o-JjJr97w"
      },
      "execution_count": null,
      "outputs": []
    },
    {
      "cell_type": "markdown",
      "source": [
        "NDVI = β0 + β1 * water_level + β2 * water_surface_area + β3 * water_volume + ε\n",
        "\n",
        "*   NDVI: The dependent variable\n",
        "*   water_level: The first predictor variable\n",
        "*   water_surface_area: The second predictor variable\n",
        "*   water_volume:  The third predictor variable\n",
        "\n",
        "\n",
        "*   β0: The intercept (the value of NDVI when all factors are 0)\n",
        "*   β1: The coefficient for water levl (the change in NDVI for a unit change in salinity)\n",
        "*   β2: The coefficient for water surface area (the change in NDVI for a unit change in water level)\n",
        "*   β3: The coefficient for water volume\n",
        "*   ε: The error term (the difference between the observed and predicted NDVI values)\n",
        "\n"
      ],
      "metadata": {
        "id": "zfR9BIiJcanO"
      }
    },
    {
      "cell_type": "code",
      "source": [
        "import statsmodels.formula.api as sm\n",
        "from statsmodels.formula.api import ols\n",
        "from statsmodels.iolib.summary2 import summary_col\n",
        "water_level = merged_df['Water Level (m)']\n",
        "water_surface_area=merged_df['Water Surface Area (thousand km²)']\n",
        "water_volume=merged_df['Water Volume (km³)']\n",
        "NDVI=merged_df['NDVI']\n",
        "model = ols('NDVI ~ water_level + water_surface_area + water_volume', data=df).fit()\n",
        "print(model.summary())"
      ],
      "metadata": {
        "id": "2KLR716Sd77k"
      },
      "execution_count": null,
      "outputs": []
    },
    {
      "cell_type": "markdown",
      "source": [
        "# **Results**\n",
        "The OLS regression results show that the model explains 41.1% of the variance in NDVI (R² = 0.411) and is statistically **significant overall** (F-statistic p = 0.0127).\n",
        "\n",
        "*   Among the variables, only **Water Volume** has a significant negative impact on NDVI(p = 0.005)\n",
        "*   Water Level and Water Surface Area are not significant predictors."
      ],
      "metadata": {
        "id": "7il6Vp42iuot"
      }
    }
  ]
}