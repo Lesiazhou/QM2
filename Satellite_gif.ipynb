{
  "nbformat": 4,
  "nbformat_minor": 0,
  "metadata": {
    "colab": {
      "provenance": [],
      "include_colab_link": true
    },
    "kernelspec": {
      "name": "python3",
      "display_name": "Python 3"
    },
    "language_info": {
      "name": "python"
    }
  },
  "cells": [
    {
      "cell_type": "markdown",
      "metadata": {
        "id": "view-in-github",
        "colab_type": "text"
      },
      "source": [
        "<a href=\"https://colab.research.google.com/github/Lesiazhou/QM2/blob/main/Satellite_gif.ipynb\" target=\"_parent\"><img src=\"https://colab.research.google.com/assets/colab-badge.svg\" alt=\"Open In Colab\"/></a>"
      ]
    },
    {
      "cell_type": "code",
      "execution_count": null,
      "metadata": {
        "id": "fMPiq17Sg7fv"
      },
      "outputs": [],
      "source": [
        "#!/usr/bin/env python3\n",
        "# -*- coding: utf-8 -*-\n",
        "\"\"\"\n",
        "Created on Wed Jan  1 16:19:31 2025\n",
        "\n",
        "@author: dianecomon\n",
        "\"\"\"\n",
        "\n",
        "from PIL import Image, ImageFont, ImageDraw\n",
        "import numpy as np\n",
        "\n",
        "# Parameters\n",
        "file_path = '/Users/dianecomon/Desktop/UCL/BASC0005 QM2/Aral Sea Satellite/'\n",
        "GIF_name = 'satellite.GIF'\n",
        "add_height = 600\n",
        "add_width = 500\n",
        "\n",
        "# Go through each picture\n",
        "list_img = []\n",
        "for n in ['%.0f' % year for year in range(2000, 2019)]:\n",
        "   # Define the file to read, and where to write\n",
        "   file_in = file_path + 'aral.' + n + '.jpg'\n",
        "\n",
        "   # Read the picture file\n",
        "   img = Image.open(file_in)\n",
        "\n",
        "   # Store the picture content as a 3D array (height, width, 0..2) where 0=red, 1=greenm 2=blue\n",
        "   pixels = np.array(img)\n",
        "\n",
        "   # Create a new, blank, picture (zeros = black)\n",
        "   previous_size = pixels.shape\n",
        "   new_pixels = np.zeros((previous_size[0]+add_height, previous_size[1] + add_width, previous_size[2]), dtype=type(pixels[0,0,0]))\n",
        "   new_pixels[:] = 255\n",
        "\n",
        "   # Copy the old picture into the new\n",
        "   new_pixels[add_height//2:-add_height//2, add_width//2:-add_width//2, :] = pixels\n",
        "   new_img = Image.fromarray(new_pixels)\n",
        "\n",
        "   # Write the caption\n",
        "   draw = ImageDraw.Draw(new_img)\n",
        "   font = ImageFont.truetype(\"Courier New Bold.ttf\",36)\n",
        "   caption = 'August ' + n\n",
        "   draw.text((add_width//2+40,add_height//2+previous_size[0]-80),caption,(254,255,255), font=font)\n",
        "\n",
        "   # Store the image in memory\n",
        "   list_img.append(new_img)\n",
        "\n",
        "   # If needed, also save the new pictures one by one\n",
        "   if False:\n",
        "       file_out = file_path + 'nn_' + n + '.jpg'\n",
        "       new_img.save(file_out)\n",
        "\n",
        "# Save the collection of pictures as an animated GIF\n",
        "file_GIF = file_path + GIF_name\n",
        "list_img[0].save(file_GIF, save_all=True, append_images=list_img[1:],duration=500,loop=0, transparency=0)"
      ]
    }
  ]
}